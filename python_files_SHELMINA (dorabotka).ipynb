{
 "cells": [
  {
   "cell_type": "code",
   "execution_count": 47,
   "metadata": {},
   "outputs": [],
   "source": [
    "import json"
   ]
  },
  {
   "cell_type": "code",
   "execution_count": 48,
   "metadata": {},
   "outputs": [],
   "source": [
    "purchase_log_dict = {}\n",
    "\n",
    "with open('purchase_log.txt', encoding='utf8') as purchase_log:\n",
    "    purchase_log.readline()\n",
    "    for purchase in purchase_log:\n",
    "        purchase = json.loads(purchase)\n",
    "        id, purchase_value = purchase.values()\n",
    "        purchase_log_dict.setdefault(id, [])\n",
    "        purchase_log_dict[id].append(purchase_value)"
   ]
  },
  {
   "cell_type": "code",
   "execution_count": 50,
   "metadata": {},
   "outputs": [],
   "source": [
    "with open('visit_log.csv', encoding='utf8') as visit_log, open('funel.csv', 'w', encoding='utf8') as funel:\n",
    "    headers = visit_log.readline().strip().split(',')\n",
    "    headers.append('purchase')\n",
    "    funel.write(f'{\";\".join(headers)}\\n')\n",
    "    for line in visit_log:\n",
    "        line = line.strip().split(',')\n",
    "        purchase = purchase_log_dict.get(line[0])\n",
    "        if purchase:\n",
    "            purchase = ','.join(purchase)\n",
    "            line.append(purchase)\n",
    "            funel.write(f'{\";\".join(line)}\\n')"
   ]
  }
 ],
 "metadata": {
  "kernelspec": {
   "display_name": "Python 3",
   "language": "python",
   "name": "python3"
  },
  "language_info": {
   "codemirror_mode": {
    "name": "ipython",
    "version": 3
   },
   "file_extension": ".py",
   "mimetype": "text/x-python",
   "name": "python",
   "nbconvert_exporter": "python",
   "pygments_lexer": "ipython3",
   "version": "3.8.5"
  }
 },
 "nbformat": 4,
 "nbformat_minor": 4
}
